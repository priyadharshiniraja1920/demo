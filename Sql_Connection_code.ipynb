{
 "cells": [
  {
   "cell_type": "code",
   "execution_count": 1,
   "id": "ce55569b-fc14-4ce2-b6cb-9b7a4b68e118",
   "metadata": {},
   "outputs": [],
   "source": [
    "import pandas as pd\n",
    "import mysql.connector\n",
    "import numpy as np"
   ]
  },
  {
   "cell_type": "code",
   "execution_count": 2,
   "id": "23b1fe87-e5d6-4e1d-96ee-74984d2af04f",
   "metadata": {},
   "outputs": [
    {
     "data": {
      "text/html": [
       "<div>\n",
       "<style scoped>\n",
       "    .dataframe tbody tr th:only-of-type {\n",
       "        vertical-align: middle;\n",
       "    }\n",
       "\n",
       "    .dataframe tbody tr th {\n",
       "        vertical-align: top;\n",
       "    }\n",
       "\n",
       "    .dataframe thead th {\n",
       "        text-align: right;\n",
       "    }\n",
       "</style>\n",
       "<table border=\"1\" class=\"dataframe\">\n",
       "  <thead>\n",
       "    <tr style=\"text-align: right;\">\n",
       "      <th></th>\n",
       "      <th>Bus_name</th>\n",
       "      <th>Bus_type</th>\n",
       "      <th>Start_time</th>\n",
       "      <th>End_time</th>\n",
       "      <th>Total_duration</th>\n",
       "      <th>Price</th>\n",
       "      <th>Seats_Available</th>\n",
       "      <th>Ratings</th>\n",
       "      <th>Route_Links</th>\n",
       "      <th>Route_Names</th>\n",
       "    </tr>\n",
       "  </thead>\n",
       "  <tbody>\n",
       "    <tr>\n",
       "      <th>0</th>\n",
       "      <td>APSRTC - 35061</td>\n",
       "      <td>SUPER LUXURY (NON-AC, 2 + 2 PUSH BACK)</td>\n",
       "      <td>16:00</td>\n",
       "      <td>00:10</td>\n",
       "      <td>08h 10m</td>\n",
       "      <td>INR 469</td>\n",
       "      <td>30 Seats available</td>\n",
       "      <td>4.0</td>\n",
       "      <td>https://www.redbus.in/bus-tickets/vijayawada-t...</td>\n",
       "      <td>Vijayawada to Hyderabad</td>\n",
       "    </tr>\n",
       "    <tr>\n",
       "      <th>1</th>\n",
       "      <td>APSRTC - 35271</td>\n",
       "      <td>INDRA(A.C. Seater)</td>\n",
       "      <td>16:00</td>\n",
       "      <td>21:50</td>\n",
       "      <td>05h 50m</td>\n",
       "      <td>INR 567</td>\n",
       "      <td>32 Seats available</td>\n",
       "      <td>3.8\\n73</td>\n",
       "      <td>https://www.redbus.in/bus-tickets/vijayawada-t...</td>\n",
       "      <td>Vijayawada to Hyderabad</td>\n",
       "    </tr>\n",
       "    <tr>\n",
       "      <th>2</th>\n",
       "      <td>APSRTC - 3585</td>\n",
       "      <td>AMARAVATHI (VOLVO / SCANIA A.C Multi Axle)</td>\n",
       "      <td>16:30</td>\n",
       "      <td>22:25</td>\n",
       "      <td>05h 55m</td>\n",
       "      <td>INR 720</td>\n",
       "      <td>29 Seats available</td>\n",
       "      <td>3.8\\n117</td>\n",
       "      <td>https://www.redbus.in/bus-tickets/vijayawada-t...</td>\n",
       "      <td>Vijayawada to Hyderabad</td>\n",
       "    </tr>\n",
       "    <tr>\n",
       "      <th>3</th>\n",
       "      <td>APSRTC - 35133</td>\n",
       "      <td>AMARAVATHI (VOLVO / SCANIA A.C Multi Axle)</td>\n",
       "      <td>17:00</td>\n",
       "      <td>22:50</td>\n",
       "      <td>05h 50m</td>\n",
       "      <td>INR 720</td>\n",
       "      <td>33 Seats available</td>\n",
       "      <td>3.4\\n75</td>\n",
       "      <td>https://www.redbus.in/bus-tickets/vijayawada-t...</td>\n",
       "      <td>Vijayawada to Hyderabad</td>\n",
       "    </tr>\n",
       "    <tr>\n",
       "      <th>4</th>\n",
       "      <td>APSRTC - 24251</td>\n",
       "      <td>INDRA(A.C. Seater)</td>\n",
       "      <td>17:00</td>\n",
       "      <td>21:55</td>\n",
       "      <td>04h 55m</td>\n",
       "      <td>INR 528</td>\n",
       "      <td>16 Seats available</td>\n",
       "      <td>3.5\\n6</td>\n",
       "      <td>https://www.redbus.in/bus-tickets/vijayawada-t...</td>\n",
       "      <td>Vijayawada to Hyderabad</td>\n",
       "    </tr>\n",
       "    <tr>\n",
       "      <th>...</th>\n",
       "      <td>...</td>\n",
       "      <td>...</td>\n",
       "      <td>...</td>\n",
       "      <td>...</td>\n",
       "      <td>...</td>\n",
       "      <td>...</td>\n",
       "      <td>...</td>\n",
       "      <td>...</td>\n",
       "      <td>...</td>\n",
       "      <td>...</td>\n",
       "    </tr>\n",
       "    <tr>\n",
       "      <th>1947</th>\n",
       "      <td>Snemita Parisheba(Samanta)</td>\n",
       "      <td>AC Seater (2+3)</td>\n",
       "      <td>18:00</td>\n",
       "      <td>22:25</td>\n",
       "      <td>04h 25m</td>\n",
       "      <td>333</td>\n",
       "      <td>25 Seats available</td>\n",
       "      <td>3.6\\n21</td>\n",
       "      <td>https://www.redbus.in/bus-tickets/kolkata-to-d...</td>\n",
       "      <td>Kolkata to Digha</td>\n",
       "    </tr>\n",
       "    <tr>\n",
       "      <th>1948</th>\n",
       "      <td>City Express (Shinjini)</td>\n",
       "      <td>AC Seater (2+3)</td>\n",
       "      <td>23:50</td>\n",
       "      <td>04:55</td>\n",
       "      <td>05h 05m</td>\n",
       "      <td>333</td>\n",
       "      <td>35 Seats available</td>\n",
       "      <td>2.8\\n55</td>\n",
       "      <td>https://www.redbus.in/bus-tickets/kolkata-to-d...</td>\n",
       "      <td>Kolkata to Digha</td>\n",
       "    </tr>\n",
       "    <tr>\n",
       "      <th>1949</th>\n",
       "      <td>SBSTC-BARASAT - DIGHA - VIA - NIBEDITA SETU - ...</td>\n",
       "      <td>Non AC Seater (2+3)</td>\n",
       "      <td>11:15</td>\n",
       "      <td>00:00</td>\n",
       "      <td>12h 45m</td>\n",
       "      <td>INR 141</td>\n",
       "      <td>42 Seats available</td>\n",
       "      <td>3.9</td>\n",
       "      <td>https://www.redbus.in/bus-tickets/barasat-west...</td>\n",
       "      <td>Barasat (West Bengal) to Contai (Kanthi)</td>\n",
       "    </tr>\n",
       "    <tr>\n",
       "      <th>1950</th>\n",
       "      <td>SBSTC-BARASAT - DIGHA - VIA - NIBEDITA SETU - ...</td>\n",
       "      <td>Non AC Seater (2+3)</td>\n",
       "      <td>11:15</td>\n",
       "      <td>00:00</td>\n",
       "      <td>12h 45m</td>\n",
       "      <td>INR 100</td>\n",
       "      <td>42 Seats available</td>\n",
       "      <td>4.1</td>\n",
       "      <td>https://www.redbus.in/bus-tickets/barasat-west...</td>\n",
       "      <td>Barasat (West Bengal) to Nandakumar (west bengal)</td>\n",
       "    </tr>\n",
       "    <tr>\n",
       "      <th>1951</th>\n",
       "      <td>SBSTC-BARASAT - DIGHA - VIA - NIBEDITA SETU - ...</td>\n",
       "      <td>Non AC Seater (2+3)</td>\n",
       "      <td>11:15</td>\n",
       "      <td>00:00</td>\n",
       "      <td>12h 45m</td>\n",
       "      <td>INR 79</td>\n",
       "      <td>42 Seats available</td>\n",
       "      <td>4.5</td>\n",
       "      <td>https://www.redbus.in/bus-tickets/barasat-west...</td>\n",
       "      <td>Barasat (West Bengal) to Kolaghat</td>\n",
       "    </tr>\n",
       "  </tbody>\n",
       "</table>\n",
       "<p>1952 rows × 10 columns</p>\n",
       "</div>"
      ],
      "text/plain": [
       "                                               Bus_name  \\\n",
       "0                                        APSRTC - 35061   \n",
       "1                                        APSRTC - 35271   \n",
       "2                                         APSRTC - 3585   \n",
       "3                                        APSRTC - 35133   \n",
       "4                                        APSRTC - 24251   \n",
       "...                                                 ...   \n",
       "1947                         Snemita Parisheba(Samanta)   \n",
       "1948                            City Express (Shinjini)   \n",
       "1949  SBSTC-BARASAT - DIGHA - VIA - NIBEDITA SETU - ...   \n",
       "1950  SBSTC-BARASAT - DIGHA - VIA - NIBEDITA SETU - ...   \n",
       "1951  SBSTC-BARASAT - DIGHA - VIA - NIBEDITA SETU - ...   \n",
       "\n",
       "                                        Bus_type Start_time End_time  \\\n",
       "0         SUPER LUXURY (NON-AC, 2 + 2 PUSH BACK)      16:00    00:10   \n",
       "1                             INDRA(A.C. Seater)      16:00    21:50   \n",
       "2     AMARAVATHI (VOLVO / SCANIA A.C Multi Axle)      16:30    22:25   \n",
       "3     AMARAVATHI (VOLVO / SCANIA A.C Multi Axle)      17:00    22:50   \n",
       "4                             INDRA(A.C. Seater)      17:00    21:55   \n",
       "...                                          ...        ...      ...   \n",
       "1947                             AC Seater (2+3)      18:00    22:25   \n",
       "1948                             AC Seater (2+3)      23:50    04:55   \n",
       "1949                         Non AC Seater (2+3)      11:15    00:00   \n",
       "1950                         Non AC Seater (2+3)      11:15    00:00   \n",
       "1951                         Non AC Seater (2+3)      11:15    00:00   \n",
       "\n",
       "     Total_duration    Price     Seats_Available   Ratings  \\\n",
       "0           08h 10m  INR 469  30 Seats available       4.0   \n",
       "1           05h 50m  INR 567  32 Seats available   3.8\\n73   \n",
       "2           05h 55m  INR 720  29 Seats available  3.8\\n117   \n",
       "3           05h 50m  INR 720  33 Seats available   3.4\\n75   \n",
       "4           04h 55m  INR 528  16 Seats available    3.5\\n6   \n",
       "...             ...      ...                 ...       ...   \n",
       "1947        04h 25m      333  25 Seats available   3.6\\n21   \n",
       "1948        05h 05m      333  35 Seats available   2.8\\n55   \n",
       "1949        12h 45m  INR 141  42 Seats available       3.9   \n",
       "1950        12h 45m  INR 100  42 Seats available       4.1   \n",
       "1951        12h 45m   INR 79  42 Seats available       4.5   \n",
       "\n",
       "                                            Route_Links  \\\n",
       "0     https://www.redbus.in/bus-tickets/vijayawada-t...   \n",
       "1     https://www.redbus.in/bus-tickets/vijayawada-t...   \n",
       "2     https://www.redbus.in/bus-tickets/vijayawada-t...   \n",
       "3     https://www.redbus.in/bus-tickets/vijayawada-t...   \n",
       "4     https://www.redbus.in/bus-tickets/vijayawada-t...   \n",
       "...                                                 ...   \n",
       "1947  https://www.redbus.in/bus-tickets/kolkata-to-d...   \n",
       "1948  https://www.redbus.in/bus-tickets/kolkata-to-d...   \n",
       "1949  https://www.redbus.in/bus-tickets/barasat-west...   \n",
       "1950  https://www.redbus.in/bus-tickets/barasat-west...   \n",
       "1951  https://www.redbus.in/bus-tickets/barasat-west...   \n",
       "\n",
       "                                            Route_Names  \n",
       "0                               Vijayawada to Hyderabad  \n",
       "1                               Vijayawada to Hyderabad  \n",
       "2                               Vijayawada to Hyderabad  \n",
       "3                               Vijayawada to Hyderabad  \n",
       "4                               Vijayawada to Hyderabad  \n",
       "...                                                 ...  \n",
       "1947                                   Kolkata to Digha  \n",
       "1948                                   Kolkata to Digha  \n",
       "1949           Barasat (West Bengal) to Contai (Kanthi)  \n",
       "1950  Barasat (West Bengal) to Nandakumar (west bengal)  \n",
       "1951                  Barasat (West Bengal) to Kolaghat  \n",
       "\n",
       "[1952 rows x 10 columns]"
      ]
     },
     "execution_count": 2,
     "metadata": {},
     "output_type": "execute_result"
    }
   ],
   "source": [
    "df_buses_1=pd.read_csv(r\"C:/Users/PRIYA/OneDrive/Desktop/Red_Bus_Project/Andhra_Details_df.csv\")\n",
    "df_buses_2=pd.read_csv(r\"C:/Users/PRIYA/OneDrive/Desktop/Red_Bus_Project/Kerala_Details_df.csv\")\n",
    "df_buses_3=pd.read_csv(r\"C:/Users/PRIYA/OneDrive/Desktop/Red_Bus_Project/Telangana_Details_df.csv\")\n",
    "df_buses_4=pd.read_csv(r\"C:/Users/PRIYA/OneDrive/Desktop/Red_Bus_Project/Kadamba_Details_df.csv\")\n",
    "df_buses_5=pd.read_csv(r\"C:/Users/PRIYA/OneDrive/Desktop/Red_Bus_Project/South_Bengal_Details_df.csv\")\n",
    "df_buses_6=pd.read_csv(r\"C:/Users/PRIYA/OneDrive/Desktop/Red_Bus_Project/Rajasthan_Details_df.csv\")\n",
    "df_buses_7=pd.read_csv(r\"C:/Users/PRIYA/OneDrive/Desktop/Red_Bus_Project/Himachal_Details_df.csv\")\n",
    "df_buses_8=pd.read_csv(r\"C:/Users/PRIYA/OneDrive/Desktop/Red_Bus_Project/Assam_Details_df.csv\")\n",
    "df_buses_9=pd.read_csv(r\"C:/Users/PRIYA/OneDrive/Desktop/Red_Bus_Project/Uttar_Pradesh_Details_df.csv\")\n",
    "df_buses_10=pd.read_csv(r\"C:/Users/PRIYA/OneDrive/Desktop/Red_Bus_Project/West_Bengal_Details_df.csv\")\n",
    "\n",
    "Final_df=pd.concat([df_buses_1,df_buses_2,df_buses_3,df_buses_4,df_buses_5,df_buses_6,\n",
    "                    df_buses_7,df_buses_8,df_buses_9,df_buses_10],ignore_index=True)\n",
    "Final_df"
   ]
  },
  {
   "cell_type": "markdown",
   "id": "57c62cbc-b1a2-4518-9ab1-7c30ccadaa63",
   "metadata": {},
   "source": [
    "## Data Cleaning"
   ]
  },
  {
   "cell_type": "code",
   "execution_count": 3,
   "id": "d3cd884b-1a6c-409b-9fc9-f26ee83c447a",
   "metadata": {},
   "outputs": [
    {
     "name": "stdout",
     "output_type": "stream",
     "text": [
      "<class 'pandas.core.frame.DataFrame'>\n",
      "RangeIndex: 1952 entries, 0 to 1951\n",
      "Data columns (total 10 columns):\n",
      " #   Column           Non-Null Count  Dtype \n",
      "---  ------           --------------  ----- \n",
      " 0   Bus_name         1952 non-null   object\n",
      " 1   Bus_type         1952 non-null   object\n",
      " 2   Start_time       1952 non-null   object\n",
      " 3   End_time         1952 non-null   object\n",
      " 4   Total_duration   1952 non-null   object\n",
      " 5   Price            1952 non-null   object\n",
      " 6   Seats_Available  1952 non-null   object\n",
      " 7   Ratings          1952 non-null   object\n",
      " 8   Route_Links      1952 non-null   object\n",
      " 9   Route_Names      1952 non-null   object\n",
      "dtypes: object(10)\n",
      "memory usage: 152.6+ KB\n"
     ]
    }
   ],
   "source": [
    "Final_df.info()"
   ]
  },
  {
   "cell_type": "code",
   "execution_count": 4,
   "id": "5d37e4e6-7e9b-4784-bebd-7bd7d81b572b",
   "metadata": {},
   "outputs": [
    {
     "data": {
      "text/plain": [
       "0       469.0\n",
       "1       567.0\n",
       "2       720.0\n",
       "3       720.0\n",
       "4       528.0\n",
       "        ...  \n",
       "1947    333.0\n",
       "1948    333.0\n",
       "1949    141.0\n",
       "1950    100.0\n",
       "1951     79.0\n",
       "Name: Price, Length: 1952, dtype: float64"
      ]
     },
     "execution_count": 4,
     "metadata": {},
     "output_type": "execute_result"
    }
   ],
   "source": [
    "Final_df[\"Price\"]=Final_df[\"Price\"].str.replace(\"INR\",\"\")\n",
    "Final_df[\"Price\"]=Final_df[\"Price\"].astype(float)\n",
    "Final_df[\"Price\"].fillna(0)"
   ]
  },
  {
   "cell_type": "code",
   "execution_count": 5,
   "id": "153fd10f-afac-4683-9aae-487e779f473c",
   "metadata": {},
   "outputs": [],
   "source": [
    "Final_df[\"Ratings\"] = Final_df[\"Ratings\"].astype(str)\n",
    "Final_df[\"Ratings\"] = Final_df[\"Ratings\"].str.replace(\"New\", \"\", regex=True)\n",
    "Final_df[\"Ratings\"] = Final_df[\"Ratings\"].str.strip()\n",
    "Final_df[\"Ratings\"] = Final_df[\"Ratings\"].str.split().str[0]\n",
    "Final_df[\"Ratings\"] = pd.to_numeric(Final_df[\"Ratings\"], errors=\"coerce\")\n",
    "Final_df[\"Ratings\"] = Final_df[\"Ratings\"].fillna(0)"
   ]
  },
  {
   "cell_type": "code",
   "execution_count": 6,
   "id": "a1ec3c0b-f43f-4980-acc8-6a255f051d47",
   "metadata": {},
   "outputs": [
    {
     "name": "stdout",
     "output_type": "stream",
     "text": [
      "<class 'pandas.core.frame.DataFrame'>\n",
      "RangeIndex: 1952 entries, 0 to 1951\n",
      "Data columns (total 10 columns):\n",
      " #   Column           Non-Null Count  Dtype  \n",
      "---  ------           --------------  -----  \n",
      " 0   Bus_name         1952 non-null   object \n",
      " 1   Bus_type         1952 non-null   object \n",
      " 2   Start_time       1952 non-null   object \n",
      " 3   End_time         1952 non-null   object \n",
      " 4   Total_duration   1952 non-null   object \n",
      " 5   Price            1952 non-null   float64\n",
      " 6   Seats_Available  1952 non-null   object \n",
      " 7   Ratings          1952 non-null   float64\n",
      " 8   Route_Links      1952 non-null   object \n",
      " 9   Route_Names      1952 non-null   object \n",
      "dtypes: float64(2), object(8)\n",
      "memory usage: 152.6+ KB\n"
     ]
    }
   ],
   "source": [
    "Final_df.info()"
   ]
  },
  {
   "cell_type": "code",
   "execution_count": 7,
   "id": "d7df7d81-d252-4e9c-aee8-7817b99dbff4",
   "metadata": {},
   "outputs": [],
   "source": [
    "Final_df = Final_df[Final_df[\"Price\"] <= 7000]\n",
    "Final_df = Final_df.replace({np.nan: None})\n",
    "\n",
    "path=r\"C:/Users/PRIYA/OneDrive/Desktop/REDBUS_PROJECT/State_Files/FinalData.csv\"\n",
    "Final_df.to_csv(path,index=False)"
   ]
  },
  {
   "cell_type": "markdown",
   "id": "9add951a-a22c-48f8-8eec-94911300081c",
   "metadata": {},
   "source": [
    "## MySQL Database Creation"
   ]
  },
  {
   "cell_type": "code",
   "execution_count": 8,
   "id": "3f2f9cd2-6b84-48d6-b205-eff185586a9a",
   "metadata": {},
   "outputs": [
    {
     "name": "stdout",
     "output_type": "stream",
     "text": [
      "Defaulting to user installation because normal site-packages is not writeable\n",
      "Requirement already satisfied: mysql-connector-python in c:\\users\\priya\\appdata\\roaming\\python\\python312\\site-packages (9.1.0)\n",
      "Note: you may need to restart the kernel to use updated packages.\n"
     ]
    }
   ],
   "source": [
    "pip install mysql-connector-python"
   ]
  },
  {
   "cell_type": "code",
   "execution_count": 9,
   "id": "73752b75-3087-4b5c-b651-389d41af7858",
   "metadata": {},
   "outputs": [
    {
     "name": "stdout",
     "output_type": "stream",
     "text": [
      "MySQL Connector installed and imported successfully!\n"
     ]
    }
   ],
   "source": [
    "import mysql.connector\n",
    "print(\"MySQL Connector installed and imported successfully!\")"
   ]
  },
  {
   "cell_type": "code",
   "execution_count": 10,
   "id": "e7941114-9065-4434-8caf-93e8e515f605",
   "metadata": {},
   "outputs": [
    {
     "name": "stdout",
     "output_type": "stream",
     "text": [
      "<mysql.connector.connection.MySQLConnection object at 0x0000027C7C842BD0>\n"
     ]
    }
   ],
   "source": [
    "con= mysql.connector.connect(\n",
    "    host=\"localhost\",\n",
    "    user=\"root\",\n",
    "    password='123456789',\n",
    "    autocommit=True\n",
    "    )\n",
    "print(con)"
   ]
  },
  {
   "cell_type": "code",
   "execution_count": 11,
   "id": "73e488bb-0101-4027-8c91-b22c83cb5337",
   "metadata": {},
   "outputs": [],
   "source": [
    "mycursor=con.cursor()\n",
    "mycursor.execute (\"create database if not exists  red_bus_details\")"
   ]
  },
  {
   "cell_type": "code",
   "execution_count": 12,
   "id": "6c922db6-4c68-4480-8bb2-8b5676db9107",
   "metadata": {},
   "outputs": [],
   "source": [
    "mycursor.execute(\"USE red_bus_details\")"
   ]
  },
  {
   "cell_type": "code",
   "execution_count": 13,
   "id": "331dd449-82f9-4e95-8737-50fd4ef74ff7",
   "metadata": {},
   "outputs": [
    {
     "name": "stdout",
     "output_type": "stream",
     "text": [
      "Table Created successfully\n"
     ]
    }
   ],
   "source": [
    "mycursor.execute('''CREATE TABLE IF NOT EXISTS bus_details(\n",
    "                  ID INT AUTO_INCREMENT PRIMARY KEY,\n",
    "                  Bus_name VARCHAR(255) NOT NULL,\n",
    "                  Bus_type VARCHAR(255) NOT NULL,\n",
    "                  Start_time VARCHAR(255) NOT NULL,\n",
    "                  End_time VARCHAR(255) NOT NULL,\n",
    "                  Total_duration VARCHAR(255) NOT NULL,\n",
    "                  Price FLOAT NULL,\n",
    "                  Seats_Available VARCHAR(255) NOT NULL,\n",
    "                  Ratings Float NULL,\n",
    "                  Route_link VARCHAR(255) NULL,\n",
    "                  Route_name VARCHAR(255) NULL\n",
    "                  )''')\n",
    "print(\"Table Created successfully\")"
   ]
  },
  {
   "cell_type": "code",
   "execution_count": 15,
   "id": "201eea72-b330-4ac0-bd54-84b756535da2",
   "metadata": {},
   "outputs": [
    {
     "name": "stdout",
     "output_type": "stream",
     "text": [
      "DataRead ['APSRTC - 35271', 'INDRA(A.C. Seater)', '16:00', '21:50', '05h 50m', 567.0, '32 Seats available', 3.8, 'https://www.redbus.in/bus-tickets/vijayawada-to-hyderabad', 'Vijayawada to Hyderabad']\n",
      "Values inserted successfully\n"
     ]
    }
   ],
   "source": [
    "insert_values = '''INSERT INTO bus_details(\n",
    "                    Bus_name,\n",
    "                    Bus_type,\n",
    "                    Start_time,\n",
    "                    End_time,\n",
    "                    Total_duration,\n",
    "                    Price,\n",
    "                    Seats_Available,\n",
    "                    Ratings,\n",
    "                    Route_link,\n",
    "                    Route_name)\n",
    "                  VALUES(%s, %s, %s, %s, %s, %s, %s, %s, %s, %s)'''\n",
    "data = Final_df.values.tolist()\n",
    "print(\"DataRead\",data[1])\n",
    "mycursor.executemany(insert_values, data)\n",
    "\n",
    "con.commit()\n",
    "\n",
    "print(\"Values inserted successfully\")"
   ]
  },
  {
   "cell_type": "code",
   "execution_count": null,
   "id": "c671bb17-a1b1-46b9-a290-fac11152ef74",
   "metadata": {},
   "outputs": [],
   "source": []
  }
 ],
 "metadata": {
  "kernelspec": {
   "display_name": "Python 3 (ipykernel)",
   "language": "python",
   "name": "python3"
  },
  "language_info": {
   "codemirror_mode": {
    "name": "ipython",
    "version": 3
   },
   "file_extension": ".py",
   "mimetype": "text/x-python",
   "name": "python",
   "nbconvert_exporter": "python",
   "pygments_lexer": "ipython3",
   "version": "3.12.4"
  }
 },
 "nbformat": 4,
 "nbformat_minor": 5
}
